{
  "cells": [
    {
      "cell_type": "markdown",
      "metadata": {
        "id": "_0gfAbD1BRax"
      },
      "source": [
        "# Assignment 5 #\n",
        "### Due: Friday, November 17th to be submitted via Canvas by 11:59 pm ###\n",
        "### Total points: **65** ###"
      ]
    },
    {
      "cell_type": "markdown",
      "metadata": {
        "id": "4DLREOVFCf3M"
      },
      "source": [
        "**Group: 56**\n",
        "\n",
        "Sanjhana Rangaraj (sr55737)\n",
        "\n",
        "Santhosh Kumar Ramkumar (sr55965)"
      ]
    },
    {
      "cell_type": "markdown",
      "metadata": {
        "id": "omOSpxMmBTQE"
      },
      "source": [
        "# Q1: Support Vector Machines (10 points)\n",
        "\n",
        "In this question, we will explore support vector machines for the Spam Base dataset from the UCI repository."
      ]
    },
    {
      "cell_type": "code",
      "execution_count": null,
      "metadata": {
        "id": "0GbdHYxjLiok"
      },
      "outputs": [],
      "source": [
        "import numpy as np\n",
        "from sklearn.preprocessing import StandardScaler\n",
        "from sklearn.svm import SVC\n",
        "from sklearn.linear_model import LogisticRegression\n",
        "from sklearn.metrics import make_scorer, accuracy_score\n",
        "from sklearn.model_selection import train_test_split, cross_val_score"
      ]
    },
    {
      "cell_type": "code",
      "execution_count": null,
      "metadata": {
        "id": "tVj75ETFMaUJ"
      },
      "outputs": [],
      "source": [
        "seed = 42"
      ]
    },
    {
      "cell_type": "code",
      "execution_count": null,
      "metadata": {
        "id": "26ixmQ9qT6z3",
        "outputId": "e0d81483-2b17-4dc5-b120-dc22c4aa66ac"
      },
      "outputs": [
        {
          "name": "stdout",
          "output_type": "stream",
          "text": [
            "Collecting ucimlrepo\n",
            "  Obtaining dependency information for ucimlrepo from https://files.pythonhosted.org/packages/3e/4a/ecc3456479d687202b34ee42317c3a63e09793c9409a720052d38356431a/ucimlrepo-0.0.3-py3-none-any.whl.metadata\n",
            "  Downloading ucimlrepo-0.0.3-py3-none-any.whl.metadata (5.2 kB)\n",
            "Downloading ucimlrepo-0.0.3-py3-none-any.whl (7.0 kB)\n",
            "Installing collected packages: ucimlrepo\n",
            "Successfully installed ucimlrepo-0.0.3\n"
          ]
        }
      ],
      "source": [
        "!pip install ucimlrepo"
      ]
    },
    {
      "cell_type": "code",
      "execution_count": null,
      "metadata": {
        "id": "DlQyfxg0YuB0",
        "outputId": "7eb1954a-3e68-4d0a-9bf5-3b509078471f"
      },
      "outputs": [
        {
          "name": "stdout",
          "output_type": "stream",
          "text": [
            "Abstract: Classifying Email as Spam or Non-Spam\n",
            "Number of instances: 4601\n",
            "Number of features: 57\n",
            "0                 word_freq_make\n",
            "1              word_freq_address\n",
            "2                  word_freq_all\n",
            "3                   word_freq_3d\n",
            "4                  word_freq_our\n",
            "5                 word_freq_over\n",
            "6               word_freq_remove\n",
            "7             word_freq_internet\n",
            "8                word_freq_order\n",
            "9                 word_freq_mail\n",
            "10             word_freq_receive\n",
            "11                word_freq_will\n",
            "12              word_freq_people\n",
            "13              word_freq_report\n",
            "14           word_freq_addresses\n",
            "15                word_freq_free\n",
            "16            word_freq_business\n",
            "17               word_freq_email\n",
            "18                 word_freq_you\n",
            "19              word_freq_credit\n",
            "20                word_freq_your\n",
            "21                word_freq_font\n",
            "22                 word_freq_000\n",
            "23               word_freq_money\n",
            "24                  word_freq_hp\n",
            "25                 word_freq_hpl\n",
            "26              word_freq_george\n",
            "27                 word_freq_650\n",
            "28                 word_freq_lab\n",
            "29                word_freq_labs\n",
            "30              word_freq_telnet\n",
            "31                 word_freq_857\n",
            "32                word_freq_data\n",
            "33                 word_freq_415\n",
            "34                  word_freq_85\n",
            "35          word_freq_technology\n",
            "36                word_freq_1999\n",
            "37               word_freq_parts\n",
            "38                  word_freq_pm\n",
            "39              word_freq_direct\n",
            "40                  word_freq_cs\n",
            "41             word_freq_meeting\n",
            "42            word_freq_original\n",
            "43             word_freq_project\n",
            "44                  word_freq_re\n",
            "45                 word_freq_edu\n",
            "46               word_freq_table\n",
            "47          word_freq_conference\n",
            "48                   char_freq_;\n",
            "49                   char_freq_(\n",
            "50                   char_freq_[\n",
            "51                   char_freq_!\n",
            "52                   char_freq_$\n",
            "53                   char_freq_#\n",
            "54    capital_run_length_average\n",
            "55    capital_run_length_longest\n",
            "56      capital_run_length_total\n",
            "57                         Class\n",
            "Name: name, dtype: object\n"
          ]
        }
      ],
      "source": [
        "from ucimlrepo import fetch_ucirepo\n",
        "# fetch dataset\n",
        "spambase = fetch_ucirepo(id=94)\n",
        "\n",
        "# data (as pandas dataframes)\n",
        "X = spambase.data.features\n",
        "y = spambase.data.targets\n",
        "print(\"Abstract:\", spambase.metadata['abstract'])\n",
        "print(\"Number of instances:\", spambase.metadata['num_instances'])\n",
        "print(\"Number of features:\", spambase.metadata['num_features'])\n",
        "print(spambase.variables['name'])"
      ]
    },
    {
      "cell_type": "code",
      "execution_count": null,
      "metadata": {
        "id": "lmKGx3T8ZXci",
        "outputId": "afa0a443-5376-4b4e-ed3d-dd402a41c6c6"
      },
      "outputs": [
        {
          "data": {
            "text/html": [
              "<div>\n",
              "<style scoped>\n",
              "    .dataframe tbody tr th:only-of-type {\n",
              "        vertical-align: middle;\n",
              "    }\n",
              "\n",
              "    .dataframe tbody tr th {\n",
              "        vertical-align: top;\n",
              "    }\n",
              "\n",
              "    .dataframe thead th {\n",
              "        text-align: right;\n",
              "    }\n",
              "</style>\n",
              "<table border=\"1\" class=\"dataframe\">\n",
              "  <thead>\n",
              "    <tr style=\"text-align: right;\">\n",
              "      <th></th>\n",
              "      <th>word_freq_make</th>\n",
              "      <th>word_freq_address</th>\n",
              "      <th>word_freq_all</th>\n",
              "      <th>word_freq_3d</th>\n",
              "      <th>word_freq_our</th>\n",
              "      <th>word_freq_over</th>\n",
              "      <th>word_freq_remove</th>\n",
              "      <th>word_freq_internet</th>\n",
              "      <th>word_freq_order</th>\n",
              "      <th>word_freq_mail</th>\n",
              "      <th>...</th>\n",
              "      <th>word_freq_conference</th>\n",
              "      <th>char_freq_;</th>\n",
              "      <th>char_freq_(</th>\n",
              "      <th>char_freq_[</th>\n",
              "      <th>char_freq_!</th>\n",
              "      <th>char_freq_$</th>\n",
              "      <th>char_freq_#</th>\n",
              "      <th>capital_run_length_average</th>\n",
              "      <th>capital_run_length_longest</th>\n",
              "      <th>capital_run_length_total</th>\n",
              "    </tr>\n",
              "  </thead>\n",
              "  <tbody>\n",
              "    <tr>\n",
              "      <th>0</th>\n",
              "      <td>0.00</td>\n",
              "      <td>0.64</td>\n",
              "      <td>0.64</td>\n",
              "      <td>0.0</td>\n",
              "      <td>0.32</td>\n",
              "      <td>0.00</td>\n",
              "      <td>0.00</td>\n",
              "      <td>0.00</td>\n",
              "      <td>0.00</td>\n",
              "      <td>0.00</td>\n",
              "      <td>...</td>\n",
              "      <td>0.0</td>\n",
              "      <td>0.00</td>\n",
              "      <td>0.000</td>\n",
              "      <td>0.0</td>\n",
              "      <td>0.778</td>\n",
              "      <td>0.000</td>\n",
              "      <td>0.000</td>\n",
              "      <td>3.756</td>\n",
              "      <td>61</td>\n",
              "      <td>278</td>\n",
              "    </tr>\n",
              "    <tr>\n",
              "      <th>1</th>\n",
              "      <td>0.21</td>\n",
              "      <td>0.28</td>\n",
              "      <td>0.50</td>\n",
              "      <td>0.0</td>\n",
              "      <td>0.14</td>\n",
              "      <td>0.28</td>\n",
              "      <td>0.21</td>\n",
              "      <td>0.07</td>\n",
              "      <td>0.00</td>\n",
              "      <td>0.94</td>\n",
              "      <td>...</td>\n",
              "      <td>0.0</td>\n",
              "      <td>0.00</td>\n",
              "      <td>0.132</td>\n",
              "      <td>0.0</td>\n",
              "      <td>0.372</td>\n",
              "      <td>0.180</td>\n",
              "      <td>0.048</td>\n",
              "      <td>5.114</td>\n",
              "      <td>101</td>\n",
              "      <td>1028</td>\n",
              "    </tr>\n",
              "    <tr>\n",
              "      <th>2</th>\n",
              "      <td>0.06</td>\n",
              "      <td>0.00</td>\n",
              "      <td>0.71</td>\n",
              "      <td>0.0</td>\n",
              "      <td>1.23</td>\n",
              "      <td>0.19</td>\n",
              "      <td>0.19</td>\n",
              "      <td>0.12</td>\n",
              "      <td>0.64</td>\n",
              "      <td>0.25</td>\n",
              "      <td>...</td>\n",
              "      <td>0.0</td>\n",
              "      <td>0.01</td>\n",
              "      <td>0.143</td>\n",
              "      <td>0.0</td>\n",
              "      <td>0.276</td>\n",
              "      <td>0.184</td>\n",
              "      <td>0.010</td>\n",
              "      <td>9.821</td>\n",
              "      <td>485</td>\n",
              "      <td>2259</td>\n",
              "    </tr>\n",
              "    <tr>\n",
              "      <th>3</th>\n",
              "      <td>0.00</td>\n",
              "      <td>0.00</td>\n",
              "      <td>0.00</td>\n",
              "      <td>0.0</td>\n",
              "      <td>0.63</td>\n",
              "      <td>0.00</td>\n",
              "      <td>0.31</td>\n",
              "      <td>0.63</td>\n",
              "      <td>0.31</td>\n",
              "      <td>0.63</td>\n",
              "      <td>...</td>\n",
              "      <td>0.0</td>\n",
              "      <td>0.00</td>\n",
              "      <td>0.137</td>\n",
              "      <td>0.0</td>\n",
              "      <td>0.137</td>\n",
              "      <td>0.000</td>\n",
              "      <td>0.000</td>\n",
              "      <td>3.537</td>\n",
              "      <td>40</td>\n",
              "      <td>191</td>\n",
              "    </tr>\n",
              "    <tr>\n",
              "      <th>4</th>\n",
              "      <td>0.00</td>\n",
              "      <td>0.00</td>\n",
              "      <td>0.00</td>\n",
              "      <td>0.0</td>\n",
              "      <td>0.63</td>\n",
              "      <td>0.00</td>\n",
              "      <td>0.31</td>\n",
              "      <td>0.63</td>\n",
              "      <td>0.31</td>\n",
              "      <td>0.63</td>\n",
              "      <td>...</td>\n",
              "      <td>0.0</td>\n",
              "      <td>0.00</td>\n",
              "      <td>0.135</td>\n",
              "      <td>0.0</td>\n",
              "      <td>0.135</td>\n",
              "      <td>0.000</td>\n",
              "      <td>0.000</td>\n",
              "      <td>3.537</td>\n",
              "      <td>40</td>\n",
              "      <td>191</td>\n",
              "    </tr>\n",
              "  </tbody>\n",
              "</table>\n",
              "<p>5 rows × 57 columns</p>\n",
              "</div>"
            ],
            "text/plain": [
              "   word_freq_make  word_freq_address  word_freq_all  word_freq_3d  \\\n",
              "0            0.00               0.64           0.64           0.0   \n",
              "1            0.21               0.28           0.50           0.0   \n",
              "2            0.06               0.00           0.71           0.0   \n",
              "3            0.00               0.00           0.00           0.0   \n",
              "4            0.00               0.00           0.00           0.0   \n",
              "\n",
              "   word_freq_our  word_freq_over  word_freq_remove  word_freq_internet  \\\n",
              "0           0.32            0.00              0.00                0.00   \n",
              "1           0.14            0.28              0.21                0.07   \n",
              "2           1.23            0.19              0.19                0.12   \n",
              "3           0.63            0.00              0.31                0.63   \n",
              "4           0.63            0.00              0.31                0.63   \n",
              "\n",
              "   word_freq_order  word_freq_mail  ...  word_freq_conference  char_freq_;  \\\n",
              "0             0.00            0.00  ...                   0.0         0.00   \n",
              "1             0.00            0.94  ...                   0.0         0.00   \n",
              "2             0.64            0.25  ...                   0.0         0.01   \n",
              "3             0.31            0.63  ...                   0.0         0.00   \n",
              "4             0.31            0.63  ...                   0.0         0.00   \n",
              "\n",
              "   char_freq_(  char_freq_[  char_freq_!  char_freq_$  char_freq_#  \\\n",
              "0        0.000          0.0        0.778        0.000        0.000   \n",
              "1        0.132          0.0        0.372        0.180        0.048   \n",
              "2        0.143          0.0        0.276        0.184        0.010   \n",
              "3        0.137          0.0        0.137        0.000        0.000   \n",
              "4        0.135          0.0        0.135        0.000        0.000   \n",
              "\n",
              "   capital_run_length_average  capital_run_length_longest  \\\n",
              "0                       3.756                          61   \n",
              "1                       5.114                         101   \n",
              "2                       9.821                         485   \n",
              "3                       3.537                          40   \n",
              "4                       3.537                          40   \n",
              "\n",
              "   capital_run_length_total  \n",
              "0                       278  \n",
              "1                      1028  \n",
              "2                      2259  \n",
              "3                       191  \n",
              "4                       191  \n",
              "\n",
              "[5 rows x 57 columns]"
            ]
          },
          "execution_count": 5,
          "metadata": {},
          "output_type": "execute_result"
        }
      ],
      "source": [
        "X.head()"
      ]
    },
    {
      "cell_type": "code",
      "execution_count": null,
      "metadata": {
        "id": "tukYZVbDZsG-"
      },
      "outputs": [],
      "source": [
        "seed = 42\n",
        "y = y.to_numpy().squeeze()\n",
        "X_train, X_test, y_train, y_test = train_test_split(X, y, test_size=0.4, random_state=seed)\n",
        "\n",
        "scaler = StandardScaler()\n",
        "X_train = scaler.fit_transform(X_train)\n",
        "X_test = scaler.transform(X_test)"
      ]
    },
    {
      "cell_type": "markdown",
      "metadata": {
        "id": "1jdODxjI41xm"
      },
      "source": [
        "a. (5 points) Implement the following function to train SVMs with a specified kernel type, hyper-parameter search space, and random state on the Spam Base dataset. Do hyper-parameter search over $C$ using [cross_val_score](https://scikit-learn.org/stable/modules/generated/sklearn.model_selection.cross_val_score.html), setting the number of folds to 5. After finding the best C, please use it to train the final model and return both the final model and the best C."
      ]
    },
    {
      "cell_type": "code",
      "execution_count": null,
      "metadata": {
        "id": "K90sxpVK7mED"
      },
      "outputs": [],
      "source": [
        "def search_best_svm(kernel, C_search_space, random_state):\n",
        "    best_score = -np.inf\n",
        "    best_C = None\n",
        "\n",
        "    for C in C_search_space:\n",
        "        # Initialize an SVM classifier with the specified kernel type, C value, and random state\n",
        "        ### START CODE ###\n",
        "        svm_classifier = SVC(kernel=kernel, C=C, random_state=random_state)\n",
        "        ### END CODE ###\n",
        "\n",
        "        # Evaluate accuracy scores using 5-fold cross-validation scores\n",
        "        ### START CODE ###\n",
        "        scores = cross_val_score(svm_classifier, X_train, y_train, cv=5, scoring='accuracy')\n",
        "        ### END CODE ###\n",
        "\n",
        "        # Compute the average score and compare with the current best score to update the best C\n",
        "        ### START CODE ###\n",
        "        avg_score = np.mean(scores)\n",
        "        if avg_score > best_score:\n",
        "            best_score = avg_score\n",
        "            best_C = C\n",
        "        ### END CODE ###\n",
        "        print(f\"C: {C} Avg Cross Val Score: {np.round(avg_score, 4)}\")\n",
        "\n",
        "    print(f\"Best C: {best_C}\")\n",
        "\n",
        "    # Initialize the model using the specified kernel type, best C, and random state;\n",
        "    # and then fit the model using training set\n",
        "    ### START CODE ###\n",
        "    model = SVC(kernel=kernel, C=best_C, random_state=random_state)\n",
        "    model.fit(X_train, y_train)\n",
        "    ### END CODE ###\n",
        "    return model, best_C"
      ]
    },
    {
      "cell_type": "markdown",
      "metadata": {
        "id": "IZ_MU9Fl6EIn"
      },
      "source": [
        "b. (3 points) Run the function you implemented above to train SVMs with the search space of $C$ being [$0.1, 1, 10, 100$], random state set to 42, with the following three popular kernels: (i) linear (ii) polynomial (iii) RBF (Gaussian). Evaluate your final models on the test set and report their accuracies."
      ]
    },
    {
      "cell_type": "code",
      "execution_count": null,
      "metadata": {
        "id": "vej5JlJutAR8",
        "outputId": "8aac5879-b48b-48c3-ddc3-465e5577ecc1"
      },
      "outputs": [
        {
          "name": "stdout",
          "output_type": "stream",
          "text": [
            "\n",
            "Training SVM with linear kernel:\n",
            "C: 0.1 Avg Cross Val Score: 0.9214\n",
            "C: 1 Avg Cross Val Score: 0.9264\n",
            "C: 10 Avg Cross Val Score: 0.9283\n",
            "C: 100 Avg Cross Val Score: 0.9268\n",
            "Best C: 10\n",
            "Best C: 10\n",
            "Test Accuracy with linear kernel: 0.9283\n",
            "\n",
            "\n",
            "Training SVM with poly kernel:\n",
            "C: 0.1 Avg Cross Val Score: 0.6895\n",
            "C: 1 Avg Cross Val Score: 0.7594\n",
            "C: 10 Avg Cross Val Score: 0.8428\n",
            "C: 100 Avg Cross Val Score: 0.8957\n",
            "Best C: 100\n",
            "Best C: 100\n",
            "Test Accuracy with poly kernel: 0.9125\n",
            "\n",
            "\n",
            "Training SVM with rbf kernel:\n",
            "C: 0.1 Avg Cross Val Score: 0.896\n",
            "C: 1 Avg Cross Val Score: 0.9243\n",
            "C: 10 Avg Cross Val Score: 0.9243\n",
            "C: 100 Avg Cross Val Score: 0.9123\n",
            "Best C: 10\n",
            "Best C: 10\n",
            "Test Accuracy with rbf kernel: 0.9354\n",
            "\n",
            "\n",
            "Final Results:\n",
            "linear kernel - Best C: 10, Test Accuracy: 0.9283\n",
            "poly kernel - Best C: 100, Test Accuracy: 0.9125\n",
            "rbf kernel - Best C: 10, Test Accuracy: 0.9354\n"
          ]
        }
      ],
      "source": [
        "C_values = [0.1, 1, 10, 100]\n",
        "\n",
        "# Store results\n",
        "results = {}\n",
        "\n",
        "# Iterate over different kernel types\n",
        "for kernel_type in ['linear', 'poly', 'rbf']:\n",
        "    print(f\"\\nTraining SVM with {kernel_type} kernel:\")\n",
        "\n",
        "    # Run the search_best_svm function\n",
        "    final_model, best_C = search_best_svm(kernel_type, C_values, seed)\n",
        "\n",
        "    # Predict on the test set\n",
        "    y_pred = final_model.predict(X_test)\n",
        "\n",
        "    # Calculate and store the accuracy on the test set\n",
        "    test_accuracy = accuracy_score(y_test, y_pred)\n",
        "    results[kernel_type] = {'best_C': best_C, 'test_accuracy': test_accuracy}\n",
        "\n",
        "    # Report the results\n",
        "    print(f\"Best C: {best_C}\")\n",
        "    print(f\"Test Accuracy with {kernel_type} kernel: {test_accuracy:.4f}\\n\")\n",
        "\n",
        "# Print the final results\n",
        "print(\"\\nFinal Results:\")\n",
        "for kernel_type, result in results.items():\n",
        "    print(f\"{kernel_type} kernel - Best C: {result['best_C']}, Test Accuracy: {result['test_accuracy']:.4f}\")"
      ]
    },
    {
      "cell_type": "markdown",
      "metadata": {
        "id": "pCxwqenL6nZ4"
      },
      "source": [
        "c. (2 points) Train a logistic regression model using the training set. Compare its performance with that of the SVMs trained above."
      ]
    },
    {
      "cell_type": "code",
      "execution_count": null,
      "metadata": {
        "id": "_I42yoAqtAR8",
        "outputId": "39a5e3d3-a19a-48a2-dd5e-b9332ae82ab7"
      },
      "outputs": [
        {
          "name": "stdout",
          "output_type": "stream",
          "text": [
            "Logistic Regression Test Accuracy: 0.9223\n",
            "\n",
            "Comparison with SVMs:\n",
            "linear kernel - SVM Test Accuracy: 0.9283\n",
            "poly kernel - SVM Test Accuracy: 0.9125\n",
            "rbf kernel - SVM Test Accuracy: 0.9354\n"
          ]
        }
      ],
      "source": [
        "# Train Logistic Regression model\n",
        "logistic_model = LogisticRegression(random_state=seed)\n",
        "logistic_model.fit(X_train, y_train)\n",
        "\n",
        "# Evaluate on the test set\n",
        "logistic_test_accuracy = logistic_model.score(X_test, y_test)\n",
        "\n",
        "# Print the results\n",
        "print(f\"Logistic Regression Test Accuracy: {logistic_test_accuracy:.4f}\\n\")\n",
        "\n",
        "# Compare with SVM results\n",
        "print(\"Comparison with SVMs:\")\n",
        "for kernel_type, result in results.items():\n",
        "    print(f\"{kernel_type} kernel - SVM Test Accuracy: {result['test_accuracy']:.4f}\")"
      ]
    },
    {
      "cell_type": "markdown",
      "metadata": {
        "id": "Jx6plITatAR8"
      },
      "source": [
        " Logistic Regression achieved a test accuracy of 92.23%. Compared to the SVM models, Logistic Regression slightly underperformed the linear kernel SVM, which attained 92.83% accuracy, but outperformed the polynomial kernel model at 91.25%. The RBF kernel SVM achieved the top accuracy of 93.54%, indicating its nonlinear flexibility better captured patterns in the data versus the linear decision boundary of Logistic Regression. Overall, SVM with RBF kernel performed the best, marginally over Logistic regression."
      ]
    },
    {
      "cell_type": "markdown",
      "metadata": {
        "id": "bc9ca1b5"
      },
      "source": [
        "# Question 2 : Ensemble Methods for Classification (25 pts)\n",
        "\n",
        "In this question, we will compare the performances of different ensemble methods for classification problems: [Bagging](https://scikit-learn.org/stable/modules/generated/sklearn.ensemble.BaggingClassifier.html), [AdaBoost](https://scikit-learn.org/stable/modules/generated/sklearn.ensemble.AdaBoostClassifier.html), [Random Forest](https://scikit-learn.org/stable/modules/generated/sklearn.ensemble.RandomForestClassifier.html) and [XGBoost](https://xgboost.readthedocs.io/en/stable/python/python_api.html) classifiers.\n",
        "\n",
        "We will look at the [GiveMeSomeCredit](https://www.kaggle.com/c/GiveMeSomeCredit) dataset for this question. The dataset is extremely large so for this question we will only consider a subset which has been provided along with the notebook for this assignment. The dataset has already been split into train and test sets.\n",
        "\n",
        "The task is to predict the probability that someone will experience financial distress in the next two years."
      ]
    },
    {
      "cell_type": "code",
      "execution_count": 2,
      "metadata": {
        "colab": {
          "base_uri": "https://localhost:8080/",
          "height": 74
        },
        "id": "a93b913f",
        "outputId": "636229fe-fed4-4ed9-8ed2-2a0d12463dab"
      },
      "outputs": [
        {
          "data": {
            "text/html": [
              "\n",
              "     <input type=\"file\" id=\"files-de201c61-ad50-4b44-889b-448bb94598ab\" name=\"files[]\" multiple disabled\n",
              "        style=\"border:none\" />\n",
              "     <output id=\"result-de201c61-ad50-4b44-889b-448bb94598ab\">\n",
              "      Upload widget is only available when the cell has been executed in the\n",
              "      current browser session. Please rerun this cell to enable.\n",
              "      </output>\n",
              "      <script>// Copyright 2017 Google LLC\n",
              "//\n",
              "// Licensed under the Apache License, Version 2.0 (the \"License\");\n",
              "// you may not use this file except in compliance with the License.\n",
              "// You may obtain a copy of the License at\n",
              "//\n",
              "//      http://www.apache.org/licenses/LICENSE-2.0\n",
              "//\n",
              "// Unless required by applicable law or agreed to in writing, software\n",
              "// distributed under the License is distributed on an \"AS IS\" BASIS,\n",
              "// WITHOUT WARRANTIES OR CONDITIONS OF ANY KIND, either express or implied.\n",
              "// See the License for the specific language governing permissions and\n",
              "// limitations under the License.\n",
              "\n",
              "/**\n",
              " * @fileoverview Helpers for google.colab Python module.\n",
              " */\n",
              "(function(scope) {\n",
              "function span(text, styleAttributes = {}) {\n",
              "  const element = document.createElement('span');\n",
              "  element.textContent = text;\n",
              "  for (const key of Object.keys(styleAttributes)) {\n",
              "    element.style[key] = styleAttributes[key];\n",
              "  }\n",
              "  return element;\n",
              "}\n",
              "\n",
              "// Max number of bytes which will be uploaded at a time.\n",
              "const MAX_PAYLOAD_SIZE = 100 * 1024;\n",
              "\n",
              "function _uploadFiles(inputId, outputId) {\n",
              "  const steps = uploadFilesStep(inputId, outputId);\n",
              "  const outputElement = document.getElementById(outputId);\n",
              "  // Cache steps on the outputElement to make it available for the next call\n",
              "  // to uploadFilesContinue from Python.\n",
              "  outputElement.steps = steps;\n",
              "\n",
              "  return _uploadFilesContinue(outputId);\n",
              "}\n",
              "\n",
              "// This is roughly an async generator (not supported in the browser yet),\n",
              "// where there are multiple asynchronous steps and the Python side is going\n",
              "// to poll for completion of each step.\n",
              "// This uses a Promise to block the python side on completion of each step,\n",
              "// then passes the result of the previous step as the input to the next step.\n",
              "function _uploadFilesContinue(outputId) {\n",
              "  const outputElement = document.getElementById(outputId);\n",
              "  const steps = outputElement.steps;\n",
              "\n",
              "  const next = steps.next(outputElement.lastPromiseValue);\n",
              "  return Promise.resolve(next.value.promise).then((value) => {\n",
              "    // Cache the last promise value to make it available to the next\n",
              "    // step of the generator.\n",
              "    outputElement.lastPromiseValue = value;\n",
              "    return next.value.response;\n",
              "  });\n",
              "}\n",
              "\n",
              "/**\n",
              " * Generator function which is called between each async step of the upload\n",
              " * process.\n",
              " * @param {string} inputId Element ID of the input file picker element.\n",
              " * @param {string} outputId Element ID of the output display.\n",
              " * @return {!Iterable<!Object>} Iterable of next steps.\n",
              " */\n",
              "function* uploadFilesStep(inputId, outputId) {\n",
              "  const inputElement = document.getElementById(inputId);\n",
              "  inputElement.disabled = false;\n",
              "\n",
              "  const outputElement = document.getElementById(outputId);\n",
              "  outputElement.innerHTML = '';\n",
              "\n",
              "  const pickedPromise = new Promise((resolve) => {\n",
              "    inputElement.addEventListener('change', (e) => {\n",
              "      resolve(e.target.files);\n",
              "    });\n",
              "  });\n",
              "\n",
              "  const cancel = document.createElement('button');\n",
              "  inputElement.parentElement.appendChild(cancel);\n",
              "  cancel.textContent = 'Cancel upload';\n",
              "  const cancelPromise = new Promise((resolve) => {\n",
              "    cancel.onclick = () => {\n",
              "      resolve(null);\n",
              "    };\n",
              "  });\n",
              "\n",
              "  // Wait for the user to pick the files.\n",
              "  const files = yield {\n",
              "    promise: Promise.race([pickedPromise, cancelPromise]),\n",
              "    response: {\n",
              "      action: 'starting',\n",
              "    }\n",
              "  };\n",
              "\n",
              "  cancel.remove();\n",
              "\n",
              "  // Disable the input element since further picks are not allowed.\n",
              "  inputElement.disabled = true;\n",
              "\n",
              "  if (!files) {\n",
              "    return {\n",
              "      response: {\n",
              "        action: 'complete',\n",
              "      }\n",
              "    };\n",
              "  }\n",
              "\n",
              "  for (const file of files) {\n",
              "    const li = document.createElement('li');\n",
              "    li.append(span(file.name, {fontWeight: 'bold'}));\n",
              "    li.append(span(\n",
              "        `(${file.type || 'n/a'}) - ${file.size} bytes, ` +\n",
              "        `last modified: ${\n",
              "            file.lastModifiedDate ? file.lastModifiedDate.toLocaleDateString() :\n",
              "                                    'n/a'} - `));\n",
              "    const percent = span('0% done');\n",
              "    li.appendChild(percent);\n",
              "\n",
              "    outputElement.appendChild(li);\n",
              "\n",
              "    const fileDataPromise = new Promise((resolve) => {\n",
              "      const reader = new FileReader();\n",
              "      reader.onload = (e) => {\n",
              "        resolve(e.target.result);\n",
              "      };\n",
              "      reader.readAsArrayBuffer(file);\n",
              "    });\n",
              "    // Wait for the data to be ready.\n",
              "    let fileData = yield {\n",
              "      promise: fileDataPromise,\n",
              "      response: {\n",
              "        action: 'continue',\n",
              "      }\n",
              "    };\n",
              "\n",
              "    // Use a chunked sending to avoid message size limits. See b/62115660.\n",
              "    let position = 0;\n",
              "    do {\n",
              "      const length = Math.min(fileData.byteLength - position, MAX_PAYLOAD_SIZE);\n",
              "      const chunk = new Uint8Array(fileData, position, length);\n",
              "      position += length;\n",
              "\n",
              "      const base64 = btoa(String.fromCharCode.apply(null, chunk));\n",
              "      yield {\n",
              "        response: {\n",
              "          action: 'append',\n",
              "          file: file.name,\n",
              "          data: base64,\n",
              "        },\n",
              "      };\n",
              "\n",
              "      let percentDone = fileData.byteLength === 0 ?\n",
              "          100 :\n",
              "          Math.round((position / fileData.byteLength) * 100);\n",
              "      percent.textContent = `${percentDone}% done`;\n",
              "\n",
              "    } while (position < fileData.byteLength);\n",
              "  }\n",
              "\n",
              "  // All done.\n",
              "  yield {\n",
              "    response: {\n",
              "      action: 'complete',\n",
              "    }\n",
              "  };\n",
              "}\n",
              "\n",
              "scope.google = scope.google || {};\n",
              "scope.google.colab = scope.google.colab || {};\n",
              "scope.google.colab._files = {\n",
              "  _uploadFiles,\n",
              "  _uploadFilesContinue,\n",
              "};\n",
              "})(self);\n",
              "</script> "
            ],
            "text/plain": [
              "<IPython.core.display.HTML object>"
            ]
          },
          "metadata": {},
          "output_type": "display_data"
        },
        {
          "name": "stdout",
          "output_type": "stream",
          "text": [
            "Saving hw5_data.csv to hw5_data.csv\n"
          ]
        }
      ],
      "source": [
        "# Only use this code block if you are using Google Colab.\n",
        "# If you are using Jupyter Notebook, please ignore this code block. You can directly upload the file to your Jupyter Notebook file systems.\n",
        "from google.colab import files\n",
        "\n",
        "## It will prompt you to select a local file. Click on “Choose Files” then select and upload the file.\n",
        "## Wait for the file to be 100% uploaded. You should see the name of the file once Colab has uploaded it.\n",
        "uploaded = files.upload()"
      ]
    },
    {
      "cell_type": "code",
      "execution_count": 3,
      "metadata": {
        "colab": {
          "base_uri": "https://localhost:8080/",
          "height": 244
        },
        "id": "1a2bac93",
        "outputId": "4268a830-2e3e-447e-d38c-fba552732b6d"
      },
      "outputs": [
        {
          "data": {
            "text/html": [
              "\n",
              "  <div id=\"df-b5b412cb-1fdc-4361-9572-cb769bb55f58\" class=\"colab-df-container\">\n",
              "    <div>\n",
              "<style scoped>\n",
              "    .dataframe tbody tr th:only-of-type {\n",
              "        vertical-align: middle;\n",
              "    }\n",
              "\n",
              "    .dataframe tbody tr th {\n",
              "        vertical-align: top;\n",
              "    }\n",
              "\n",
              "    .dataframe thead th {\n",
              "        text-align: right;\n",
              "    }\n",
              "</style>\n",
              "<table border=\"1\" class=\"dataframe\">\n",
              "  <thead>\n",
              "    <tr style=\"text-align: right;\">\n",
              "      <th></th>\n",
              "      <th>SeriousDlqin2yrs</th>\n",
              "      <th>RevolvingUtilizationOfUnsecuredLines</th>\n",
              "      <th>age</th>\n",
              "      <th>NumberOfTime30-59DaysPastDueNotWorse</th>\n",
              "      <th>DebtRatio</th>\n",
              "      <th>MonthlyIncome</th>\n",
              "      <th>NumberOfOpenCreditLinesAndLoans</th>\n",
              "      <th>NumberOfTimes90DaysLate</th>\n",
              "      <th>NumberRealEstateLoansOrLines</th>\n",
              "      <th>NumberOfTime60-89DaysPastDueNotWorse</th>\n",
              "      <th>NumberOfDependents</th>\n",
              "    </tr>\n",
              "  </thead>\n",
              "  <tbody>\n",
              "    <tr>\n",
              "      <th>0</th>\n",
              "      <td>0</td>\n",
              "      <td>0.571373</td>\n",
              "      <td>66</td>\n",
              "      <td>0</td>\n",
              "      <td>0.430620</td>\n",
              "      <td>9274.0</td>\n",
              "      <td>10</td>\n",
              "      <td>0</td>\n",
              "      <td>1</td>\n",
              "      <td>0</td>\n",
              "      <td>0.0</td>\n",
              "    </tr>\n",
              "    <tr>\n",
              "      <th>1</th>\n",
              "      <td>0</td>\n",
              "      <td>0.233999</td>\n",
              "      <td>56</td>\n",
              "      <td>0</td>\n",
              "      <td>0.257380</td>\n",
              "      <td>5656.0</td>\n",
              "      <td>12</td>\n",
              "      <td>0</td>\n",
              "      <td>0</td>\n",
              "      <td>0</td>\n",
              "      <td>0.0</td>\n",
              "    </tr>\n",
              "    <tr>\n",
              "      <th>2</th>\n",
              "      <td>0</td>\n",
              "      <td>0.299270</td>\n",
              "      <td>33</td>\n",
              "      <td>0</td>\n",
              "      <td>0.114575</td>\n",
              "      <td>4747.0</td>\n",
              "      <td>8</td>\n",
              "      <td>0</td>\n",
              "      <td>0</td>\n",
              "      <td>0</td>\n",
              "      <td>3.0</td>\n",
              "    </tr>\n",
              "    <tr>\n",
              "      <th>3</th>\n",
              "      <td>0</td>\n",
              "      <td>0.032165</td>\n",
              "      <td>41</td>\n",
              "      <td>0</td>\n",
              "      <td>0.308326</td>\n",
              "      <td>8490.0</td>\n",
              "      <td>8</td>\n",
              "      <td>0</td>\n",
              "      <td>1</td>\n",
              "      <td>0</td>\n",
              "      <td>0.0</td>\n",
              "    </tr>\n",
              "    <tr>\n",
              "      <th>4</th>\n",
              "      <td>0</td>\n",
              "      <td>0.050591</td>\n",
              "      <td>36</td>\n",
              "      <td>0</td>\n",
              "      <td>0.862627</td>\n",
              "      <td>3333.0</td>\n",
              "      <td>8</td>\n",
              "      <td>0</td>\n",
              "      <td>2</td>\n",
              "      <td>0</td>\n",
              "      <td>0.0</td>\n",
              "    </tr>\n",
              "  </tbody>\n",
              "</table>\n",
              "</div>\n",
              "    <div class=\"colab-df-buttons\">\n",
              "\n",
              "  <div class=\"colab-df-container\">\n",
              "    <button class=\"colab-df-convert\" onclick=\"convertToInteractive('df-b5b412cb-1fdc-4361-9572-cb769bb55f58')\"\n",
              "            title=\"Convert this dataframe to an interactive table.\"\n",
              "            style=\"display:none;\">\n",
              "\n",
              "  <svg xmlns=\"http://www.w3.org/2000/svg\" height=\"24px\" viewBox=\"0 -960 960 960\">\n",
              "    <path d=\"M120-120v-720h720v720H120Zm60-500h600v-160H180v160Zm220 220h160v-160H400v160Zm0 220h160v-160H400v160ZM180-400h160v-160H180v160Zm440 0h160v-160H620v160ZM180-180h160v-160H180v160Zm440 0h160v-160H620v160Z\"/>\n",
              "  </svg>\n",
              "    </button>\n",
              "\n",
              "  <style>\n",
              "    .colab-df-container {\n",
              "      display:flex;\n",
              "      gap: 12px;\n",
              "    }\n",
              "\n",
              "    .colab-df-convert {\n",
              "      background-color: #E8F0FE;\n",
              "      border: none;\n",
              "      border-radius: 50%;\n",
              "      cursor: pointer;\n",
              "      display: none;\n",
              "      fill: #1967D2;\n",
              "      height: 32px;\n",
              "      padding: 0 0 0 0;\n",
              "      width: 32px;\n",
              "    }\n",
              "\n",
              "    .colab-df-convert:hover {\n",
              "      background-color: #E2EBFA;\n",
              "      box-shadow: 0px 1px 2px rgba(60, 64, 67, 0.3), 0px 1px 3px 1px rgba(60, 64, 67, 0.15);\n",
              "      fill: #174EA6;\n",
              "    }\n",
              "\n",
              "    .colab-df-buttons div {\n",
              "      margin-bottom: 4px;\n",
              "    }\n",
              "\n",
              "    [theme=dark] .colab-df-convert {\n",
              "      background-color: #3B4455;\n",
              "      fill: #D2E3FC;\n",
              "    }\n",
              "\n",
              "    [theme=dark] .colab-df-convert:hover {\n",
              "      background-color: #434B5C;\n",
              "      box-shadow: 0px 1px 3px 1px rgba(0, 0, 0, 0.15);\n",
              "      filter: drop-shadow(0px 1px 2px rgba(0, 0, 0, 0.3));\n",
              "      fill: #FFFFFF;\n",
              "    }\n",
              "  </style>\n",
              "\n",
              "    <script>\n",
              "      const buttonEl =\n",
              "        document.querySelector('#df-b5b412cb-1fdc-4361-9572-cb769bb55f58 button.colab-df-convert');\n",
              "      buttonEl.style.display =\n",
              "        google.colab.kernel.accessAllowed ? 'block' : 'none';\n",
              "\n",
              "      async function convertToInteractive(key) {\n",
              "        const element = document.querySelector('#df-b5b412cb-1fdc-4361-9572-cb769bb55f58');\n",
              "        const dataTable =\n",
              "          await google.colab.kernel.invokeFunction('convertToInteractive',\n",
              "                                                    [key], {});\n",
              "        if (!dataTable) return;\n",
              "\n",
              "        const docLinkHtml = 'Like what you see? Visit the ' +\n",
              "          '<a target=\"_blank\" href=https://colab.research.google.com/notebooks/data_table.ipynb>data table notebook</a>'\n",
              "          + ' to learn more about interactive tables.';\n",
              "        element.innerHTML = '';\n",
              "        dataTable['output_type'] = 'display_data';\n",
              "        await google.colab.output.renderOutput(dataTable, element);\n",
              "        const docLink = document.createElement('div');\n",
              "        docLink.innerHTML = docLinkHtml;\n",
              "        element.appendChild(docLink);\n",
              "      }\n",
              "    </script>\n",
              "  </div>\n",
              "\n",
              "\n",
              "<div id=\"df-51509a2c-4d54-42c5-bf99-ce8c65c2322b\">\n",
              "  <button class=\"colab-df-quickchart\" onclick=\"quickchart('df-51509a2c-4d54-42c5-bf99-ce8c65c2322b')\"\n",
              "            title=\"Suggest charts\"\n",
              "            style=\"display:none;\">\n",
              "\n",
              "<svg xmlns=\"http://www.w3.org/2000/svg\" height=\"24px\"viewBox=\"0 0 24 24\"\n",
              "     width=\"24px\">\n",
              "    <g>\n",
              "        <path d=\"M19 3H5c-1.1 0-2 .9-2 2v14c0 1.1.9 2 2 2h14c1.1 0 2-.9 2-2V5c0-1.1-.9-2-2-2zM9 17H7v-7h2v7zm4 0h-2V7h2v10zm4 0h-2v-4h2v4z\"/>\n",
              "    </g>\n",
              "</svg>\n",
              "  </button>\n",
              "\n",
              "<style>\n",
              "  .colab-df-quickchart {\n",
              "      --bg-color: #E8F0FE;\n",
              "      --fill-color: #1967D2;\n",
              "      --hover-bg-color: #E2EBFA;\n",
              "      --hover-fill-color: #174EA6;\n",
              "      --disabled-fill-color: #AAA;\n",
              "      --disabled-bg-color: #DDD;\n",
              "  }\n",
              "\n",
              "  [theme=dark] .colab-df-quickchart {\n",
              "      --bg-color: #3B4455;\n",
              "      --fill-color: #D2E3FC;\n",
              "      --hover-bg-color: #434B5C;\n",
              "      --hover-fill-color: #FFFFFF;\n",
              "      --disabled-bg-color: #3B4455;\n",
              "      --disabled-fill-color: #666;\n",
              "  }\n",
              "\n",
              "  .colab-df-quickchart {\n",
              "    background-color: var(--bg-color);\n",
              "    border: none;\n",
              "    border-radius: 50%;\n",
              "    cursor: pointer;\n",
              "    display: none;\n",
              "    fill: var(--fill-color);\n",
              "    height: 32px;\n",
              "    padding: 0;\n",
              "    width: 32px;\n",
              "  }\n",
              "\n",
              "  .colab-df-quickchart:hover {\n",
              "    background-color: var(--hover-bg-color);\n",
              "    box-shadow: 0 1px 2px rgba(60, 64, 67, 0.3), 0 1px 3px 1px rgba(60, 64, 67, 0.15);\n",
              "    fill: var(--button-hover-fill-color);\n",
              "  }\n",
              "\n",
              "  .colab-df-quickchart-complete:disabled,\n",
              "  .colab-df-quickchart-complete:disabled:hover {\n",
              "    background-color: var(--disabled-bg-color);\n",
              "    fill: var(--disabled-fill-color);\n",
              "    box-shadow: none;\n",
              "  }\n",
              "\n",
              "  .colab-df-spinner {\n",
              "    border: 2px solid var(--fill-color);\n",
              "    border-color: transparent;\n",
              "    border-bottom-color: var(--fill-color);\n",
              "    animation:\n",
              "      spin 1s steps(1) infinite;\n",
              "  }\n",
              "\n",
              "  @keyframes spin {\n",
              "    0% {\n",
              "      border-color: transparent;\n",
              "      border-bottom-color: var(--fill-color);\n",
              "      border-left-color: var(--fill-color);\n",
              "    }\n",
              "    20% {\n",
              "      border-color: transparent;\n",
              "      border-left-color: var(--fill-color);\n",
              "      border-top-color: var(--fill-color);\n",
              "    }\n",
              "    30% {\n",
              "      border-color: transparent;\n",
              "      border-left-color: var(--fill-color);\n",
              "      border-top-color: var(--fill-color);\n",
              "      border-right-color: var(--fill-color);\n",
              "    }\n",
              "    40% {\n",
              "      border-color: transparent;\n",
              "      border-right-color: var(--fill-color);\n",
              "      border-top-color: var(--fill-color);\n",
              "    }\n",
              "    60% {\n",
              "      border-color: transparent;\n",
              "      border-right-color: var(--fill-color);\n",
              "    }\n",
              "    80% {\n",
              "      border-color: transparent;\n",
              "      border-right-color: var(--fill-color);\n",
              "      border-bottom-color: var(--fill-color);\n",
              "    }\n",
              "    90% {\n",
              "      border-color: transparent;\n",
              "      border-bottom-color: var(--fill-color);\n",
              "    }\n",
              "  }\n",
              "</style>\n",
              "\n",
              "  <script>\n",
              "    async function quickchart(key) {\n",
              "      const quickchartButtonEl =\n",
              "        document.querySelector('#' + key + ' button');\n",
              "      quickchartButtonEl.disabled = true;  // To prevent multiple clicks.\n",
              "      quickchartButtonEl.classList.add('colab-df-spinner');\n",
              "      try {\n",
              "        const charts = await google.colab.kernel.invokeFunction(\n",
              "            'suggestCharts', [key], {});\n",
              "      } catch (error) {\n",
              "        console.error('Error during call to suggestCharts:', error);\n",
              "      }\n",
              "      quickchartButtonEl.classList.remove('colab-df-spinner');\n",
              "      quickchartButtonEl.classList.add('colab-df-quickchart-complete');\n",
              "    }\n",
              "    (() => {\n",
              "      let quickchartButtonEl =\n",
              "        document.querySelector('#df-51509a2c-4d54-42c5-bf99-ce8c65c2322b button');\n",
              "      quickchartButtonEl.style.display =\n",
              "        google.colab.kernel.accessAllowed ? 'block' : 'none';\n",
              "    })();\n",
              "  </script>\n",
              "</div>\n",
              "    </div>\n",
              "  </div>\n"
            ],
            "text/plain": [
              "   SeriousDlqin2yrs  RevolvingUtilizationOfUnsecuredLines  age  \\\n",
              "0                 0                              0.571373   66   \n",
              "1                 0                              0.233999   56   \n",
              "2                 0                              0.299270   33   \n",
              "3                 0                              0.032165   41   \n",
              "4                 0                              0.050591   36   \n",
              "\n",
              "   NumberOfTime30-59DaysPastDueNotWorse  DebtRatio  MonthlyIncome  \\\n",
              "0                                     0   0.430620         9274.0   \n",
              "1                                     0   0.257380         5656.0   \n",
              "2                                     0   0.114575         4747.0   \n",
              "3                                     0   0.308326         8490.0   \n",
              "4                                     0   0.862627         3333.0   \n",
              "\n",
              "   NumberOfOpenCreditLinesAndLoans  NumberOfTimes90DaysLate  \\\n",
              "0                               10                        0   \n",
              "1                               12                        0   \n",
              "2                                8                        0   \n",
              "3                                8                        0   \n",
              "4                                8                        0   \n",
              "\n",
              "   NumberRealEstateLoansOrLines  NumberOfTime60-89DaysPastDueNotWorse  \\\n",
              "0                             1                                     0   \n",
              "1                             0                                     0   \n",
              "2                             0                                     0   \n",
              "3                             1                                     0   \n",
              "4                             2                                     0   \n",
              "\n",
              "   NumberOfDependents  \n",
              "0                 0.0  \n",
              "1                 0.0  \n",
              "2                 3.0  \n",
              "3                 0.0  \n",
              "4                 0.0  "
            ]
          },
          "execution_count": 3,
          "metadata": {},
          "output_type": "execute_result"
        }
      ],
      "source": [
        "import pandas as pd\n",
        "import warnings\n",
        "warnings.filterwarnings(\"ignore\")\n",
        "\n",
        "data = pd.read_csv('hw5_data.csv')\n",
        "data.drop(data.columns[data.columns.str.contains('unnamed',case = False)],axis = 1, inplace = True)\n",
        "data.head()"
      ]
    },
    {
      "cell_type": "code",
      "execution_count": 4,
      "metadata": {
        "colab": {
          "base_uri": "https://localhost:8080/"
        },
        "id": "fb34060d",
        "outputId": "98ae9561-c707-4bd4-994e-836309dc9a06"
      },
      "outputs": [
        {
          "name": "stdout",
          "output_type": "stream",
          "text": [
            "train: (3750, 10) (3750,)\n",
            "test: (1250, 10) (1250,)\n"
          ]
        }
      ],
      "source": [
        "from sklearn.model_selection import train_test_split\n",
        "y = data['SeriousDlqin2yrs']\n",
        "X = data.drop(['SeriousDlqin2yrs'],axis=1)\n",
        "X_train, X_test, y_train, y_test = train_test_split(X, y, test_size = 0.25, random_state = 7)\n",
        "\n",
        "print('train:',X_train.shape, y_train.shape)\n",
        "print('test:',X_test.shape, y_test.shape)"
      ]
    },
    {
      "cell_type": "code",
      "execution_count": 5,
      "metadata": {
        "id": "90d16082"
      },
      "outputs": [],
      "source": [
        "import matplotlib.pyplot as plt\n",
        "from sklearn.model_selection import (train_test_split,GridSearchCV)\n",
        "from sklearn.metrics import (accuracy_score,roc_auc_score)\n",
        "from sklearn.ensemble import (RandomForestClassifier,GradientBoostingClassifier,AdaBoostClassifier)\n",
        "from sklearn.ensemble import RandomForestClassifier, BaggingClassifier\n",
        "from sklearn.metrics import confusion_matrix\n",
        "from sklearn.tree import DecisionTreeClassifier\n",
        "from time import time\n",
        "import xgboost as xgb\n",
        "%matplotlib inline"
      ]
    },
    {
      "cell_type": "code",
      "execution_count": 6,
      "metadata": {
        "id": "420aeb16"
      },
      "outputs": [],
      "source": [
        "columns_list = list(X.columns)"
      ]
    },
    {
      "cell_type": "markdown",
      "metadata": {
        "id": "f40f9107"
      },
      "source": [
        "a. (2.5 pts) Fit a Decision Tree Classifier with random_state = 14 for this classification problem. Report the accuracy_score and roc_auc_score on the test set."
      ]
    },
    {
      "cell_type": "code",
      "execution_count": 7,
      "metadata": {
        "id": "45de59e6"
      },
      "outputs": [],
      "source": [
        "def fit_classifier(clf):\n",
        "  # Fit the classifier on the training set\n",
        "  ### START CODE ###\n",
        "  clf.fit(X_train, y_train)\n",
        "  ### END CODE ###\n",
        "  return clf"
      ]
    },
    {
      "cell_type": "code",
      "execution_count": 8,
      "metadata": {
        "id": "yZfiYRKtHJQ4"
      },
      "outputs": [],
      "source": [
        "def evaluate_classifier(clf, X_test, y_test):\n",
        "  # Compute the accuracy_score, and roc_auc_score on the test set\n",
        "  ### START CODE ###\n",
        "  y_pred = clf.predict(X_test)\n",
        "  y_pred_proba = clf.predict_proba(X_test)[:, 1]\n",
        "\n",
        "  acc_score = accuracy_score(y_test, y_pred)\n",
        "  auc_score = roc_auc_score(y_test, y_pred_proba)\n",
        "  ### END CODE ###\n",
        "  print(\"Accuracy_score: {}, ROC_AUC_score: {}\".format(acc_score, auc_score))\n",
        "  return acc_score, auc_score"
      ]
    },
    {
      "cell_type": "code",
      "execution_count": 9,
      "metadata": {
        "colab": {
          "base_uri": "https://localhost:8080/"
        },
        "id": "9a436542",
        "outputId": "97d4a741-6582-47a7-b1b2-7dd4e48d33bc"
      },
      "outputs": [
        {
          "name": "stdout",
          "output_type": "stream",
          "text": [
            "Decision Tree\n",
            "Accuracy_score: 0.888, ROC_AUC_score: 0.5854582176218127\n"
          ]
        }
      ],
      "source": [
        "print(\"Decision Tree\")\n",
        "# Initialize your decision tree classifier\n",
        "### START CODE ###\n",
        "dt_clf = DecisionTreeClassifier(random_state=14)\n",
        "### END CODE ###\n",
        "\n",
        "dt_clf = fit_classifier(dt_clf)\n",
        "acc_dt, roc_auc_dt = evaluate_classifier(dt_clf, X_test, y_test)"
      ]
    },
    {
      "cell_type": "markdown",
      "metadata": {
        "id": "6d360a99"
      },
      "source": [
        "b. (2.5 pts) Create a [Bagging](https://scikit-learn.org/stable/modules/generated/sklearn.ensemble.BaggingClassifier.html) of 25 classifiers (i.e, n_estimators=25) with random_state=14. Please use Decision Tree Classifier with random_state=14 as the base classifier. Report accuracy_score and roc_auc_score on the test data for this emsemble classifier."
      ]
    },
    {
      "cell_type": "code",
      "execution_count": 10,
      "metadata": {
        "colab": {
          "base_uri": "https://localhost:8080/"
        },
        "id": "239c9c3c",
        "outputId": "34aad4c1-16c0-4ad0-a299-27175bc96cea"
      },
      "outputs": [
        {
          "name": "stdout",
          "output_type": "stream",
          "text": [
            "Bagging of Decesion Trees\n",
            "Accuracy_score: 0.9256, ROC_AUC_score: 0.7857106791214341\n"
          ]
        }
      ],
      "source": [
        "print(\"Bagging of Decesion Trees\")\n",
        "# Initialize your bagging classifier\n",
        "### START CODE ###\n",
        "bag_clf = BaggingClassifier(base_estimator=DecisionTreeClassifier(random_state=14),\n",
        "                            n_estimators=25,\n",
        "                            random_state=14)\n",
        "### END CODE ###\n",
        "\n",
        "bag_clf = fit_classifier(bag_clf)\n",
        "acc_bag, roc_auc_bag = evaluate_classifier(bag_clf, X_test, y_test)"
      ]
    },
    {
      "cell_type": "markdown",
      "metadata": {
        "id": "34225ee3"
      },
      "source": [
        "c. (5 pts) In this question, you will fit a [Random Forest](http://scikit-learn.org/stable/modules/generated/sklearn.ensemble.RandomForestClassifier.html) model on the training data for this classification task.\n",
        "\n",
        "1. First, please find the best parameters (including *n_estimators*, *max_features* and *criterion*) using [GridSearchCV](http://scikit-learn.org/stable/modules/generated/sklearn.model_selection.GridSearchCV.html). Report the optimal parameters obtained by GridSearch.\n",
        "2. Fit a model using the best parameters, and report the [confusion matrix](https://scikit-learn.org/stable/modules/generated/sklearn.metrics.confusion_matrix.html) and [roc_auc_score](http://scikit-learn.org/stable/modules/generated/sklearn.metrics.roc_auc_score.html#sklearn.metrics.roc_auc_score) on test data."
      ]
    },
    {
      "cell_type": "code",
      "execution_count": 11,
      "metadata": {
        "id": "R9E7sMGt2goM"
      },
      "outputs": [],
      "source": [
        "def grid_search_for_classifier(clf, param_grid, X_train, y_train):\n",
        "  # Grid search\n",
        "  grid_search = GridSearchCV(clf, param_grid=param_grid)\n",
        "\n",
        "  # Conduct grid search using the training set (1 line of code only)\n",
        "  ### START CODE ###\n",
        "  grid_search.fit(X_train, y_train)\n",
        "  ### END CODE ###\n",
        "  print(grid_search.best_params_)\n",
        "\n",
        "  # Set the best paramters for your clf (1 line of code only)\n",
        "  ### START CODE ###\n",
        "  clf.set_params(**grid_search.best_params_)\n",
        "  ### END CODE ###\n",
        "  return clf"
      ]
    },
    {
      "cell_type": "code",
      "execution_count": 12,
      "metadata": {
        "id": "4UyA2_rB2gG9"
      },
      "outputs": [],
      "source": [
        "def train_and_evaluate_classifier(clf, X_train, y_train, X_test, y_test):\n",
        "  t0 = time()\n",
        "  # Fit your classifier on the training set\n",
        "  ### START CODE ###\n",
        "  clf.fit(X_train, y_train)\n",
        "  ### END CODE ###\n",
        "  print(\"training time\", round(time()-t0, 3), \"s\")\n",
        "\n",
        "  t0 = time()\n",
        "  y_pred = clf.predict(X_test)\n",
        "  print(\"predict time\", round(time()-t0, 3), \"s\")\n",
        "\n",
        "  print(\"Confusion matrix: \")\n",
        "  # Print the confusion matrix computed from the test set (1 line of code only)\n",
        "  ### START CODE ###\n",
        "  print(confusion_matrix(y_test, y_pred))\n",
        "  ### END CODE ###\n",
        "\n",
        "\n",
        "  ### START CODE ###\n",
        "  y_pred_proba = clf.predict_proba(X_test)[:, 1]\n",
        "  acc_score = accuracy_score(y_test, y_pred)\n",
        "  auc_score = roc_auc_score(y_test, y_pred_proba)\n",
        "  ### END CODE ###\n",
        "\n",
        "  print(\"Accuracy: {}, AUC_ROC: {}\".format(acc_score, auc_score))\n",
        "  return clf, acc_score, auc_score"
      ]
    },
    {
      "cell_type": "code",
      "execution_count": 13,
      "metadata": {
        "colab": {
          "base_uri": "https://localhost:8080/"
        },
        "id": "6bfb9542",
        "outputId": "e893cab7-6a40-4a05-c5f8-2d7c019340d8"
      },
      "outputs": [
        {
          "name": "stdout",
          "output_type": "stream",
          "text": [
            "{'criterion': 'entropy', 'max_features': 1, 'n_estimators': 100, 'random_state': 17}\n",
            "training time 0.655 s\n",
            "predict time 0.032 s\n",
            "Confusion matrix: \n",
            "[[1162    3]\n",
            " [  82    3]]\n",
            "Accuracy: 0.932, AUC_ROC: 0.8375612219136582\n"
          ]
        }
      ],
      "source": [
        "param_grid = {\"n_estimators\": [1, 10, 50, 100],\n",
        "              \"max_features\": [1, 5, 10, \"auto\"],\n",
        "              \"criterion\": ['gini','entropy'],\n",
        "              \"random_state\": [17]}\n",
        "\n",
        "# Initialize your random forest classifier\n",
        "### START CODE ###\n",
        "rf_clf = RandomForestClassifier()\n",
        "### END CODE ###\n",
        "rf_clf = grid_search_for_classifier(rf_clf, param_grid, X_train, y_train)\n",
        "rf_clf_1, acc_rf, roc_auc_rf = train_and_evaluate_classifier(rf_clf, X_train, y_train, X_test, y_test)"
      ]
    },
    {
      "cell_type": "markdown",
      "metadata": {
        "id": "314c313b"
      },
      "source": [
        "d. (10 pts) This time, let us use [AdaBoost](http://scikit-learn.org/stable/modules/generated/sklearn.ensemble.AdaBoostClassifier.html#sklearn.ensemble.AdaBoostClassifier) and [XGBoost](https://xgboost.readthedocs.io/en/stable/python/python_api.html) for the same task. For AdaBoost and XGBoost, please respectively find the best parameters (including *n_estimators, learning_rate*); fit your model using the best parameters, and report the confusion matrix and roc_auc_score on test data."
      ]
    },
    {
      "cell_type": "code",
      "execution_count": 14,
      "metadata": {
        "id": "3222ef25"
      },
      "outputs": [],
      "source": [
        "param_grid = {\"n_estimators\": [10, 100],\n",
        "          \"learning_rate\": [0.01, 0.1, 0.5],\n",
        "          \"random_state\": [17]\n",
        "          }"
      ]
    },
    {
      "cell_type": "code",
      "execution_count": 15,
      "metadata": {
        "colab": {
          "base_uri": "https://localhost:8080/"
        },
        "id": "bp4Ekjpy1cGw",
        "outputId": "a4861c63-a0a8-402c-9eb3-46adfbd39eb4"
      },
      "outputs": [
        {
          "name": "stdout",
          "output_type": "stream",
          "text": [
            "{'learning_rate': 0.1, 'n_estimators': 100, 'random_state': 17}\n",
            "training time 0.462 s\n",
            "predict time 0.034 s\n",
            "Confusion matrix: \n",
            "[[1153   12]\n",
            " [  72   13]]\n",
            "Accuracy: 0.9328, AUC_ROC: 0.8390254986114618\n"
          ]
        }
      ],
      "source": [
        "# Initialize your AdaBoost classifier\n",
        "### START CODE ###\n",
        "ab_clf = AdaBoostClassifier()\n",
        "### END CODE ###\n",
        "ab_clf = grid_search_for_classifier(ab_clf, param_grid, X_train, y_train)\n",
        "ab_clf_1, acc_ab, roc_auc_ab = train_and_evaluate_classifier(ab_clf, X_train, y_train, X_test, y_test)"
      ]
    },
    {
      "cell_type": "code",
      "execution_count": 17,
      "metadata": {
        "colab": {
          "base_uri": "https://localhost:8080/"
        },
        "id": "Hv0p1mZh2CqA",
        "outputId": "aee46864-d06a-43cf-dcbf-2cc9eaeef5f7"
      },
      "outputs": [
        {
          "name": "stdout",
          "output_type": "stream",
          "text": [
            "{'learning_rate': 0.01, 'n_estimators': 100, 'random_state': 17}\n",
            "training time 0.133 s\n",
            "predict time 0.006 s\n",
            "Confusion matrix: \n",
            "[[1163    2]\n",
            " [  84    1]]\n",
            "Accuracy: 0.9312, AUC_ROC: 0.8267962635698057\n"
          ]
        }
      ],
      "source": [
        "# Initialize your XGBoost classifier\n",
        "### START CODE ###\n",
        "xgb_clf = xgb.XGBClassifier()\n",
        "### END CODE ###\n",
        "xgb_clf = grid_search_for_classifier(xgb_clf, param_grid, X_train, y_train)\n",
        "xgb_clf_1, acc_xgb, roc_auc_xgb = train_and_evaluate_classifier(xgb_clf, X_train, y_train, X_test, y_test)"
      ]
    },
    {
      "cell_type": "markdown",
      "metadata": {
        "id": "f6bc87cd"
      },
      "source": [
        "f. (5 pts) Compare the performance of decision tree from part a) with the ensemble methods. Briefly explain which of the three ensemble methods performed better and why?"
      ]
    },
    {
      "cell_type": "code",
      "execution_count": 18,
      "metadata": {
        "colab": {
          "base_uri": "https://localhost:8080/"
        },
        "id": "w7lS5rPutAR_",
        "outputId": "c6c4ce53-a71e-434b-d2b3-2f8a27712e4b"
      },
      "outputs": [
        {
          "name": "stdout",
          "output_type": "stream",
          "text": [
            "+---------------+----------+--------------------+\n",
            "|   Classifier  | Accuracy |      ROC AUC       |\n",
            "+---------------+----------+--------------------+\n",
            "| Decision Tree |  0.888   | 0.5854582176218127 |\n",
            "|    Bagging    |  0.9256  | 0.7857106791214341 |\n",
            "| Random Forest |  0.932   | 0.8375612219136582 |\n",
            "|    AdaBoost   |  0.9328  | 0.8390254986114618 |\n",
            "|    XGBoost    |  0.9312  | 0.8267962635698057 |\n",
            "+---------------+----------+--------------------+\n"
          ]
        }
      ],
      "source": [
        "from prettytable import PrettyTable\n",
        "table = PrettyTable()\n",
        "table.field_names = [\"Classifier\", \"Accuracy\", \"ROC AUC\"]\n",
        "table.add_row([\"Decision Tree\", acc_dt, roc_auc_dt])\n",
        "table.add_row([\"Bagging\", acc_bag, roc_auc_bag])\n",
        "table.add_row([\"Random Forest\", acc_rf, roc_auc_rf])\n",
        "table.add_row([\"AdaBoost\", acc_ab, roc_auc_ab])\n",
        "table.add_row([\"XGBoost\", acc_xgb, roc_auc_xgb])\n",
        "print(table)"
      ]
    },
    {
      "cell_type": "markdown",
      "metadata": {
        "id": "XWF1LP-TtAR_"
      },
      "source": [
        "The decision tree classifier had significantly lower performance compared to the ensemble methods, with an accuracy of 0.888 and ROC AUC of 0.585. This is likely because decision tree tend to overfit training data, has high variance, is not stable, and the greedy recursive splitting approach. All these contribute to poorer performance compared to ensemble methods which address these weaknesses.\n",
        "\n",
        "Among the ensemble methods, AdaBoost achieved the highest test accuracy of 0.9328 and ROC AUC of 0.8390.\n",
        "\n",
        "AdaBoost works by combining multiple weak decision tree models sequentially, with each new model focusing on correcting errors from the previous ones. This allows AdaBoost to reduce both bias and variance in the final model, leading to better performance."
      ]
    },
    {
      "cell_type": "markdown",
      "metadata": {
        "id": "jZXTR1tM7yBp"
      },
      "source": [
        "# Q3: CatBoost (10 points)"
      ]
    },
    {
      "cell_type": "markdown",
      "metadata": {
        "id": "3zcExque_yso"
      },
      "source": [
        "In this question you will learn about a boosting algorithm known as **CatBoost**. Please go through the two videos specified below to get a better understanding of the CatBoost algorithm and answer the questions that follow.\n",
        "\n",
        "[Part-1](https://www.youtube.com/watch?v=KXOTSkPL2X4&ab_channel=StatQuestwithJoshStarmer)\n",
        "[Part - 2](https://www.youtube.com/watch?v=3Bg2XRFOTzg&t=242s&ab_channel=StatQuestwithJoshStarmer)\n",
        "\n",
        "\n",
        "\n",
        "a. **(5 points)** Briefly explain Ordered Target Encoding. What challenge does it try to address?\n",
        "\n",
        "b. **(5 points)** Briefly describe the main advantages and disadvantages of CatBoost as compared to XGBoost."
      ]
    },
    {
      "cell_type": "markdown",
      "metadata": {
        "id": "pe16Z1HW7Mb2"
      },
      "source": [
        "a. Ordered Target Encoding is a method used by CatBoost to encode categorical features in a way that preserves information about the relationship with the target variable. Unlike one-hot encoding which creates binary indicator variables, Ordered Target Encoding assigns numerical values to categories based on the probability of the target variable being 1 for observations with that category.\n",
        "\n",
        "Specifically, for each category in a categorical feature, the probability of the target being 1 is calculated using only prior observations in the training data. This avoids leakage from the full dataset. The categories are then sorted based on these probabilities and assigned numerical values in order. This encoding method efficiently captures information about the correlation between a categorical feature and the target, while avoiding sparse high-dimensional representations. A key advantage is that it accounts for the target variable information during encoding, unlike one-hot encoding. By ordering categories intelligently based on the target variable, Ordered Target Encoding provides a meaningful representation of categorical variables for boosted decision tree models like CatBoost."
      ]
    },
    {
      "cell_type": "markdown",
      "metadata": {
        "id": "l__gwXjZ8b6M"
      },
      "source": [
        "b.\n",
        "\n",
        "\n",
        " ![WhatsApp Image 2023-11-17 at 7.11.01 PM.jpeg](data:image/jpeg;base64,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)"
      ]
    },
    {
      "cell_type": "markdown",
      "metadata": {
        "id": "FTFRT23o76A2"
      },
      "source": [
        "# Q4: Convolutional Neural Network (20 points)\n",
        "In this question, we will continue our exercise on the SVHN classification task from the previous homework, but this time we will be using Convolutional Neural Networks."
      ]
    },
    {
      "cell_type": "code",
      "execution_count": 20,
      "metadata": {
        "id": "lW0odgzmXUU_"
      },
      "outputs": [],
      "source": [
        "import numpy as np\n",
        "import random\n",
        "import os\n",
        "import torch\n",
        "import torch.nn as nn\n",
        "import torch.nn.functional as F\n",
        "from torch.utils.data import DataLoader\n",
        "import torchvision\n",
        "from sklearn.metrics import accuracy_score\n",
        "import matplotlib.pyplot as plt\n",
        "from tqdm import tqdm"
      ]
    },
    {
      "cell_type": "code",
      "execution_count": 21,
      "metadata": {
        "id": "Dr0KdJ2LrCCV"
      },
      "outputs": [],
      "source": [
        "seed = 42\n",
        "torch.manual_seed(seed)\n",
        "torch.cuda.manual_seed(seed)\n",
        "torch.backends.cudnn.deterministic = True\n",
        "torch.backends.cudnn.benchmark = False\n",
        "np.random.seed(seed)\n",
        "random.seed(seed)\n",
        "os.environ['PYTHONHASHSEED'] = str(seed)"
      ]
    },
    {
      "cell_type": "code",
      "execution_count": 22,
      "metadata": {
        "colab": {
          "base_uri": "https://localhost:8080/"
        },
        "id": "oBCdEj-_0tkS",
        "outputId": "5271ea76-5660-4eb6-f78f-dc889b7d0199"
      },
      "outputs": [
        {
          "name": "stdout",
          "output_type": "stream",
          "text": [
            "Downloading http://ufldl.stanford.edu/housenumbers/train_32x32.mat to ./train_32x32.mat\n"
          ]
        },
        {
          "name": "stderr",
          "output_type": "stream",
          "text": [
            "100%|██████████| 182040794/182040794 [00:23<00:00, 7888704.32it/s] \n"
          ]
        },
        {
          "name": "stdout",
          "output_type": "stream",
          "text": [
            "Downloading http://ufldl.stanford.edu/housenumbers/test_32x32.mat to ./test_32x32.mat\n"
          ]
        },
        {
          "name": "stderr",
          "output_type": "stream",
          "text": [
            "100%|██████████| 64275384/64275384 [00:11<00:00, 5403153.28it/s]\n"
          ]
        }
      ],
      "source": [
        "transform=torchvision.transforms.Compose([\n",
        "        torchvision.transforms.ToTensor(),\n",
        "        torchvision.transforms.Normalize((0.4376821, 0.4437697, 0.47280442), (0.19803012, 0.20101562, 0.19703614))\n",
        "        ])\n",
        "\n",
        "train_dataset = torchvision.datasets.SVHN(root='.', split='train', transform=transform, download=True)\n",
        "test_dataset = torchvision.datasets.SVHN(root='.', split='test', transform=transform, download=True)"
      ]
    },
    {
      "cell_type": "code",
      "execution_count": 23,
      "metadata": {
        "id": "iLn4YKK90vjo"
      },
      "outputs": [],
      "source": [
        "train_num = int(len(train_dataset) * 0.8)\n",
        "val_num = len(train_dataset) - train_num\n",
        "# Randomly split the training dataset into training dataset and validation dataset\n",
        "train_dataset, val_dataset = torch.utils.data.random_split(train_dataset, [train_num, val_num])\n",
        "\n",
        "# Create data loaders\n",
        "train_loader = DataLoader(train_dataset, batch_size=256, shuffle=True)\n",
        "val_loader = DataLoader(val_dataset, batch_size=256, shuffle=False)\n",
        "test_loader = DataLoader(test_dataset, batch_size=256, shuffle=False)"
      ]
    },
    {
      "cell_type": "markdown",
      "metadata": {
        "id": "RFUXsbsqjoCw"
      },
      "source": [
        "a. (10 points) Build a convolutional neural network with the following sequential configuration. If not specified, please use the default setting of torch.nn.Conv2d. The output of the convolution layers will be fed into a fully-connected MLP. Then train the model with Adam optimizer (lr=1e-3) for 10 epochs. You should be able to achieve test accuracy of over 85%.\n",
        "\n",
        "\n",
        "\n",
        "> Layer 1\n",
        "*   2d convolution (# input channel=3, # output channel=16, kernel size=3, padding=1)\n",
        "*   2d batch normalization\n",
        "*   Relu activation\n",
        "\n",
        "> Pool 1\n",
        "*   2d max pooling (kernel size=2)\n",
        "\n",
        "> Layer 2\n",
        "*   2d convolution (# output channel=16, kernel size=3, padding=1)\n",
        "*   2d batch normalization\n",
        "*   Relu activation\n",
        "\n",
        "> Pool 2\n",
        "*   2d max pooling (kernel size=2)\n",
        "\n",
        "> Layer 3\n",
        "*   2d convolution (# output channel=32, kernel size=3, padding=1)\n",
        "*   2d batch normalization\n",
        "*   Relu activation\n",
        "\n",
        "> Pool 3\n",
        "*   2d max pooling (kernel size=2)\n",
        "\n",
        "References:\n",
        "\n",
        "*   https://pytorch.org/docs/stable/generated/torch.nn.Conv2d.html\n",
        "*   https://pytorch.org/docs/stable/generated/torch.nn.BatchNorm2d.html\n",
        "*   https://pytorch.org/docs/stable/generated/torch.nn.MaxPool2d.html\n",
        "*   https://pytorch.org/docs/stable/generated/torch.nn.Sequential.html\n",
        "\n",
        "\n",
        "\n",
        "\n"
      ]
    },
    {
      "cell_type": "code",
      "execution_count": 24,
      "metadata": {
        "id": "M8OcO88V01Rr"
      },
      "outputs": [],
      "source": [
        "class CNN(nn.Module):\n",
        "    def __init__(self, pool=True):\n",
        "        super(CNN, self).__init__()\n",
        "        self.pool = pool\n",
        "\n",
        "        # Create convolutional layers\n",
        "        ### START CODE ###\n",
        "        self.layer1 = nn.Sequential(\n",
        "            nn.Conv2d(3, 16, kernel_size=3, padding=1),\n",
        "            nn.BatchNorm2d(16),\n",
        "            nn.ReLU()\n",
        "        )\n",
        "\n",
        "        self.pool1 = nn.MaxPool2d(kernel_size=2)\n",
        "\n",
        "        self.layer2 = nn.Sequential(\n",
        "            nn.Conv2d(16, 16, kernel_size=3, padding=1),\n",
        "            nn.BatchNorm2d(16),\n",
        "            nn.ReLU()\n",
        "        )\n",
        "\n",
        "        self.pool2 = nn.MaxPool2d(kernel_size=2)\n",
        "\n",
        "        self.layer3 = nn.Sequential(\n",
        "            nn.Conv2d(16, 32, kernel_size=3, padding=1),\n",
        "            nn.BatchNorm2d(32),\n",
        "            nn.ReLU()\n",
        "        )\n",
        "\n",
        "        self.pool3 = nn.MaxPool2d(kernel_size=2)\n",
        "        ### END CODE ###\n",
        "\n",
        "        # Create fully connected layers (nn.Linear)\n",
        "        if self.pool:\n",
        "            self.mlp1 = nn.Linear(32*4*4, 50)\n",
        "        else:\n",
        "            self.mlp1 = nn.Linear(32*32*32, 50)\n",
        "\n",
        "        self.mlp2 = nn.Linear(50, 50)\n",
        "        self.mlp3 = nn.Linear(50, 10)\n",
        "\n",
        "    def forward(self, x):\n",
        "        x = self.layer1(x)\n",
        "        if self.pool:\n",
        "            x = self.pool1(x)\n",
        "\n",
        "        x = self.layer2(x)\n",
        "        if self.pool:\n",
        "            x = self.pool2(x)\n",
        "\n",
        "        x = self.layer3(x)\n",
        "        if self.pool:\n",
        "            x = self.pool3(x)\n",
        "        x = x.reshape(x.shape[0], -1)\n",
        "\n",
        "        x = F.relu(self.mlp1(x))\n",
        "        x = F.relu(self.mlp2(x))\n",
        "        x = self.mlp3(x)\n",
        "\n",
        "        return x"
      ]
    },
    {
      "cell_type": "code",
      "execution_count": 25,
      "metadata": {
        "id": "Ygrxekov097w"
      },
      "outputs": [],
      "source": [
        "def train(model, loader, optimizer):\n",
        "    model.train()\n",
        "    total_loss = 0\n",
        "    total_num = 0\n",
        "    for data, target in tqdm(loader):\n",
        "        out = model(data)\n",
        "        # Calculate loss based on model output and target\n",
        "        loss = F.nll_loss(F.log_softmax(out, dim=1), target)\n",
        "\n",
        "        # Use the optimizer to perform backpropagation\n",
        "        optimizer.zero_grad()\n",
        "        loss.backward()\n",
        "        optimizer.step()\n",
        "\n",
        "        batch_size = len(target)\n",
        "        total_loss += loss.item() * batch_size\n",
        "        total_num += batch_size\n",
        "    avg_loss = total_loss / total_num\n",
        "    return avg_loss\n",
        "\n",
        "@torch.no_grad()\n",
        "def eval(model, loader):\n",
        "    model.eval()\n",
        "    total_loss = 0\n",
        "    total_correct = 0\n",
        "    total_num = 0\n",
        "    for data, target in tqdm(loader):\n",
        "        out = model(data)\n",
        "        # Calculate loss based on model output and target\n",
        "        loss = F.nll_loss(F.log_softmax(out, dim=1), target)\n",
        "\n",
        "        # Get model's prediction\n",
        "        pred = torch.argmax(out, dim=1)\n",
        "\n",
        "        # Count number of correct predictions\n",
        "        correct = accuracy_score(target, pred, normalize=False)\n",
        "\n",
        "        total_correct += correct\n",
        "        batch_size = len(target)\n",
        "        total_loss += loss.item() * batch_size\n",
        "        total_num += batch_size\n",
        "    avg_loss = total_loss / total_num\n",
        "    acc = total_correct / total_num\n",
        "    return avg_loss, acc"
      ]
    },
    {
      "cell_type": "code",
      "execution_count": 26,
      "metadata": {
        "colab": {
          "base_uri": "https://localhost:8080/"
        },
        "id": "aET_5IqXDsC1",
        "outputId": "b4f6224f-45ac-4eee-ae83-cbb6a3c5fdea"
      },
      "outputs": [
        {
          "name": "stderr",
          "output_type": "stream",
          "text": [
            "100%|██████████| 229/229 [01:02<00:00,  3.67it/s]\n",
            "100%|██████████| 58/58 [00:10<00:00,  5.71it/s]\n"
          ]
        },
        {
          "name": "stdout",
          "output_type": "stream",
          "text": [
            "Epoch: 1 Train Loss: 1.22839825788198 Val Loss: 0.647812260749592 Val Acc: 0.8073983073983074\n"
          ]
        },
        {
          "name": "stderr",
          "output_type": "stream",
          "text": [
            "100%|██████████| 229/229 [01:01<00:00,  3.73it/s]\n",
            "100%|██████████| 58/58 [00:09<00:00,  5.91it/s]\n"
          ]
        },
        {
          "name": "stdout",
          "output_type": "stream",
          "text": [
            "Epoch: 2 Train Loss: 0.5592806533471013 Val Loss: 0.5003044925001583 Val Acc: 0.8536718536718537\n"
          ]
        },
        {
          "name": "stderr",
          "output_type": "stream",
          "text": [
            "100%|██████████| 229/229 [01:01<00:00,  3.74it/s]\n",
            "100%|██████████| 58/58 [00:09<00:00,  6.34it/s]\n"
          ]
        },
        {
          "name": "stdout",
          "output_type": "stream",
          "text": [
            "Epoch: 3 Train Loss: 0.4593943901105135 Val Loss: 0.4746085552693455 Val Acc: 0.8582446082446082\n"
          ]
        },
        {
          "name": "stderr",
          "output_type": "stream",
          "text": [
            "100%|██████████| 229/229 [01:02<00:00,  3.67it/s]\n",
            "100%|██████████| 58/58 [00:08<00:00,  6.57it/s]\n"
          ]
        },
        {
          "name": "stdout",
          "output_type": "stream",
          "text": [
            "Epoch: 4 Train Loss: 0.41120777591565866 Val Loss: 0.42906942453877117 Val Acc: 0.8735326235326235\n"
          ]
        },
        {
          "name": "stderr",
          "output_type": "stream",
          "text": [
            "100%|██████████| 229/229 [01:02<00:00,  3.66it/s]\n",
            "100%|██████████| 58/58 [00:09<00:00,  6.44it/s]\n"
          ]
        },
        {
          "name": "stdout",
          "output_type": "stream",
          "text": [
            "Epoch: 5 Train Loss: 0.376636562444236 Val Loss: 0.407136069334598 Val Acc: 0.881040131040131\n"
          ]
        },
        {
          "name": "stderr",
          "output_type": "stream",
          "text": [
            "100%|██████████| 229/229 [01:02<00:00,  3.67it/s]\n",
            "100%|██████████| 58/58 [00:09<00:00,  6.15it/s]\n"
          ]
        },
        {
          "name": "stdout",
          "output_type": "stream",
          "text": [
            "Epoch: 6 Train Loss: 0.3525809457883647 Val Loss: 0.4136648689206754 Val Acc: 0.8751706251706252\n"
          ]
        },
        {
          "name": "stderr",
          "output_type": "stream",
          "text": [
            "100%|██████████| 229/229 [01:01<00:00,  3.70it/s]\n",
            "100%|██████████| 58/58 [00:09<00:00,  5.89it/s]\n"
          ]
        },
        {
          "name": "stdout",
          "output_type": "stream",
          "text": [
            "Epoch: 7 Train Loss: 0.33502779737103466 Val Loss: 0.3914568663871975 Val Acc: 0.8840431340431341\n"
          ]
        },
        {
          "name": "stderr",
          "output_type": "stream",
          "text": [
            "100%|██████████| 229/229 [01:01<00:00,  3.71it/s]\n",
            "100%|██████████| 58/58 [00:10<00:00,  5.71it/s]\n"
          ]
        },
        {
          "name": "stdout",
          "output_type": "stream",
          "text": [
            "Epoch: 8 Train Loss: 0.31703089203619733 Val Loss: 0.3720417320687622 Val Acc: 0.8904586404586404\n"
          ]
        },
        {
          "name": "stderr",
          "output_type": "stream",
          "text": [
            "100%|██████████| 229/229 [01:01<00:00,  3.73it/s]\n",
            "100%|██████████| 58/58 [00:10<00:00,  5.68it/s]\n"
          ]
        },
        {
          "name": "stdout",
          "output_type": "stream",
          "text": [
            "Epoch: 9 Train Loss: 0.3009738132185969 Val Loss: 0.3756331554648331 Val Acc: 0.8910728910728911\n"
          ]
        },
        {
          "name": "stderr",
          "output_type": "stream",
          "text": [
            "100%|██████████| 229/229 [01:01<00:00,  3.73it/s]\n",
            "100%|██████████| 58/58 [00:10<00:00,  5.72it/s]"
          ]
        },
        {
          "name": "stdout",
          "output_type": "stream",
          "text": [
            "Epoch: 10 Train Loss: 0.29225769216071906 Val Loss: 0.37330560991502415 Val Acc: 0.891960141960142\n"
          ]
        },
        {
          "name": "stderr",
          "output_type": "stream",
          "text": [
            "\n"
          ]
        }
      ],
      "source": [
        "model1 = CNN(pool=True)\n",
        "optimizer = torch.optim.Adam(model1.parameters(), lr=1e-3)\n",
        "best_acc = -np.inf\n",
        "epochs = 10\n",
        "for e in range(1, epochs + 1):\n",
        "    train_loss = train(model1, train_loader, optimizer)\n",
        "    val_loss, val_acc = eval(model1, val_loader)\n",
        "    if val_acc > best_acc:\n",
        "        best_acc = val_acc\n",
        "        best_model1 = model1\n",
        "    print(f\"Epoch: {e} Train Loss: {train_loss} Val Loss: {val_loss} Val Acc: {val_acc}\")"
      ]
    },
    {
      "cell_type": "code",
      "execution_count": 27,
      "metadata": {
        "colab": {
          "base_uri": "https://localhost:8080/"
        },
        "id": "A7Za_DdlDwJX",
        "outputId": "3ae9ca00-0f3e-45e1-ca07-25631d66b008"
      },
      "outputs": [
        {
          "name": "stderr",
          "output_type": "stream",
          "text": [
            "100%|██████████| 102/102 [00:32<00:00,  3.19it/s]"
          ]
        },
        {
          "name": "stdout",
          "output_type": "stream",
          "text": [
            "Test accuracy: 0.889\n"
          ]
        },
        {
          "name": "stderr",
          "output_type": "stream",
          "text": [
            "\n"
          ]
        }
      ],
      "source": [
        "_, test_acc = eval(best_model1, test_loader)\n",
        "print(f\"Test accuracy: {np.round(test_acc, 3)}\")"
      ]
    },
    {
      "cell_type": "markdown",
      "metadata": {
        "id": "xLAnNsjsnRpK"
      },
      "source": [
        "b. (5 points) Use torch-summary to print a summary of the model. The number of parameters should be less than the one of the MLP we trained in the previous homework. Why does it have less number of parameters but have higher accuracy?\n",
        "\n",
        "Reference\n",
        "*   https://pypi.org/project/torch-summary/\n"
      ]
    },
    {
      "cell_type": "code",
      "execution_count": 28,
      "metadata": {
        "colab": {
          "base_uri": "https://localhost:8080/"
        },
        "id": "bjtixKfo2zHp",
        "outputId": "2f66393b-d263-46d1-a0bd-7cbf086cd837"
      },
      "outputs": [
        {
          "name": "stdout",
          "output_type": "stream",
          "text": [
            "----------------------------------------------------------------\n",
            "        Layer (type)               Output Shape         Param #\n",
            "================================================================\n",
            "            Conv2d-1           [-1, 16, 32, 32]             448\n",
            "       BatchNorm2d-2           [-1, 16, 32, 32]              32\n",
            "              ReLU-3           [-1, 16, 32, 32]               0\n",
            "         MaxPool2d-4           [-1, 16, 16, 16]               0\n",
            "            Conv2d-5           [-1, 16, 16, 16]           2,320\n",
            "       BatchNorm2d-6           [-1, 16, 16, 16]              32\n",
            "              ReLU-7           [-1, 16, 16, 16]               0\n",
            "         MaxPool2d-8             [-1, 16, 8, 8]               0\n",
            "            Conv2d-9             [-1, 32, 8, 8]           4,640\n",
            "      BatchNorm2d-10             [-1, 32, 8, 8]              64\n",
            "             ReLU-11             [-1, 32, 8, 8]               0\n",
            "        MaxPool2d-12             [-1, 32, 4, 4]               0\n",
            "           Linear-13                   [-1, 50]          25,650\n",
            "           Linear-14                   [-1, 50]           2,550\n",
            "           Linear-15                   [-1, 10]             510\n",
            "================================================================\n",
            "Total params: 36,246\n",
            "Trainable params: 36,246\n",
            "Non-trainable params: 0\n",
            "----------------------------------------------------------------\n",
            "Input size (MB): 0.01\n",
            "Forward/backward pass size (MB): 0.56\n",
            "Params size (MB): 0.14\n",
            "Estimated Total Size (MB): 0.71\n",
            "----------------------------------------------------------------\n"
          ]
        }
      ],
      "source": [
        "from torchsummary import summary\n",
        "\n",
        "#summary(best_model1)\n",
        "summary(best_model1, (3, 32, 32))"
      ]
    },
    {
      "cell_type": "markdown",
      "metadata": {
        "id": "XBoBFxAdAGZd"
      },
      "source": [
        "\n",
        "The convolutional neural network (CNN) model has significantly fewer parameters compared to the multi-layer perceptron (MLP) model from the previous assignment. However, the CNN achieves higher accuracy on the image classification task. This is due to the inherent efficiency of CNN architectures for visual recognition problems.\n",
        "\n",
        "\n",
        "A key advantage of CNNs is their use of convolutional filters that are convolved across the image to detect patterns and features. The same filter weights are shared across the entire image, greatly reducing the number of learnable parameters. On the other hand, the MLP model has no weight sharing and learns a separate weight for each input pixel, resulting in a much larger parameter size.\n",
        "\n",
        "\n",
        "Additionally, CNNs capture spatial relationships between neighboring pixels through the convolutional operations. This allows meaningful representations to be learned from images. In contrast, the MLP treats each pixel independently and lacks the ability to discern spatial patterns. By leveraging filters and localization, CNNs can learn effective features for images using far fewer parameters compared to perceptron models. This combination of specialized architecture and parameter sharing enables CNNs to achieve superior accuracy and efficiency on computer vision tasks.\n",
        "\n"
      ]
    },
    {
      "cell_type": "markdown",
      "metadata": {
        "id": "8eb6rNHsobVb"
      },
      "source": [
        "c. (5 points) Train another CNN with the pool option set to False. What are the differences in terms of accuracy or computation caused by disabling max pooling? What are the effects of pooling operations in CNNs? (This might take some time. Watch a TV show while you're waiting for the results..)"
      ]
    },
    {
      "cell_type": "code",
      "execution_count": 29,
      "metadata": {
        "colab": {
          "base_uri": "https://localhost:8080/"
        },
        "id": "1m-9yG9VAbgE",
        "outputId": "ba129530-603d-4942-dffc-75888d1de6c2"
      },
      "outputs": [
        {
          "name": "stderr",
          "output_type": "stream",
          "text": [
            "100%|██████████| 229/229 [02:51<00:00,  1.33it/s]\n",
            "100%|██████████| 58/58 [00:14<00:00,  3.90it/s]\n"
          ]
        },
        {
          "name": "stdout",
          "output_type": "stream",
          "text": [
            "Epoch: 1 Train Loss: 1.0003158025688283 Val Loss: 0.5584160293382014 Val Acc: 0.834971334971335\n"
          ]
        },
        {
          "name": "stderr",
          "output_type": "stream",
          "text": [
            "100%|██████████| 229/229 [02:42<00:00,  1.41it/s]\n",
            "100%|██████████| 58/58 [00:15<00:00,  3.86it/s]\n"
          ]
        },
        {
          "name": "stdout",
          "output_type": "stream",
          "text": [
            "Epoch: 2 Train Loss: 0.5144349020258293 Val Loss: 0.5235431071369823 Val Acc: 0.8423423423423423\n"
          ]
        },
        {
          "name": "stderr",
          "output_type": "stream",
          "text": [
            "100%|██████████| 229/229 [02:43<00:00,  1.40it/s]\n",
            "100%|██████████| 58/58 [00:14<00:00,  4.00it/s]\n"
          ]
        },
        {
          "name": "stdout",
          "output_type": "stream",
          "text": [
            "Epoch: 3 Train Loss: 0.4271723176124875 Val Loss: 0.4624150771929402 Val Acc: 0.8622713622713623\n"
          ]
        },
        {
          "name": "stderr",
          "output_type": "stream",
          "text": [
            "100%|██████████| 229/229 [02:49<00:00,  1.35it/s]\n",
            "100%|██████████| 58/58 [00:14<00:00,  3.94it/s]\n"
          ]
        },
        {
          "name": "stdout",
          "output_type": "stream",
          "text": [
            "Epoch: 4 Train Loss: 0.3739251923626188 Val Loss: 0.4183060463549431 Val Acc: 0.8771498771498771\n"
          ]
        },
        {
          "name": "stderr",
          "output_type": "stream",
          "text": [
            "100%|██████████| 229/229 [02:47<00:00,  1.37it/s]\n",
            "100%|██████████| 58/58 [00:13<00:00,  4.14it/s]\n"
          ]
        },
        {
          "name": "stdout",
          "output_type": "stream",
          "text": [
            "Epoch: 5 Train Loss: 0.33857445641188844 Val Loss: 0.4171803383278189 Val Acc: 0.8751706251706252\n"
          ]
        },
        {
          "name": "stderr",
          "output_type": "stream",
          "text": [
            "100%|██████████| 229/229 [02:49<00:00,  1.35it/s]\n",
            "100%|██████████| 58/58 [00:13<00:00,  4.21it/s]\n"
          ]
        },
        {
          "name": "stdout",
          "output_type": "stream",
          "text": [
            "Epoch: 6 Train Loss: 0.3040421285408368 Val Loss: 0.41760880691885394 Val Acc: 0.8756483756483756\n"
          ]
        },
        {
          "name": "stderr",
          "output_type": "stream",
          "text": [
            "100%|██████████| 229/229 [02:47<00:00,  1.37it/s]\n",
            "100%|██████████| 58/58 [00:13<00:00,  4.18it/s]\n"
          ]
        },
        {
          "name": "stdout",
          "output_type": "stream",
          "text": [
            "Epoch: 7 Train Loss: 0.273628866745744 Val Loss: 0.4462313714360657 Val Acc: 0.8705978705978706\n"
          ]
        },
        {
          "name": "stderr",
          "output_type": "stream",
          "text": [
            "100%|██████████| 229/229 [02:48<00:00,  1.36it/s]\n",
            "100%|██████████| 58/58 [00:14<00:00,  3.90it/s]\n"
          ]
        },
        {
          "name": "stdout",
          "output_type": "stream",
          "text": [
            "Epoch: 8 Train Loss: 0.2568227009448406 Val Loss: 0.4360978120366895 Val Acc: 0.8753071253071253\n"
          ]
        },
        {
          "name": "stderr",
          "output_type": "stream",
          "text": [
            "100%|██████████| 229/229 [02:47<00:00,  1.37it/s]\n",
            "100%|██████████| 58/58 [00:14<00:00,  4.12it/s]\n"
          ]
        },
        {
          "name": "stdout",
          "output_type": "stream",
          "text": [
            "Epoch: 9 Train Loss: 0.23452540480554557 Val Loss: 0.43030886398030865 Val Acc: 0.8798116298116299\n"
          ]
        },
        {
          "name": "stderr",
          "output_type": "stream",
          "text": [
            "100%|██████████| 229/229 [02:53<00:00,  1.32it/s]\n",
            "100%|██████████| 58/58 [00:13<00:00,  4.16it/s]"
          ]
        },
        {
          "name": "stdout",
          "output_type": "stream",
          "text": [
            "Epoch: 10 Train Loss: 0.21008999816931592 Val Loss: 0.43881489194109896 Val Acc: 0.88001638001638\n"
          ]
        },
        {
          "name": "stderr",
          "output_type": "stream",
          "text": [
            "\n"
          ]
        }
      ],
      "source": [
        "model2 = CNN(pool=False)\n",
        "optimizer = torch.optim.Adam(model2.parameters(), lr=1e-3)\n",
        "best_acc = -np.inf\n",
        "epochs = 10\n",
        "for e in range(1, epochs + 1):\n",
        "    train_loss = train(model2, train_loader, optimizer)\n",
        "    val_loss, val_acc = eval(model2, val_loader)\n",
        "    if val_acc > best_acc:\n",
        "        best_acc = val_acc\n",
        "        best_model2 = model2\n",
        "    print(f\"Epoch: {e} Train Loss: {train_loss} Val Loss: {val_loss} Val Acc: {val_acc}\")"
      ]
    },
    {
      "cell_type": "code",
      "execution_count": 30,
      "metadata": {
        "colab": {
          "base_uri": "https://localhost:8080/"
        },
        "id": "13gIhnYVAbgQ",
        "outputId": "57fb9238-ecc0-4b90-c2bb-104295b71455"
      },
      "outputs": [
        {
          "name": "stderr",
          "output_type": "stream",
          "text": [
            "100%|██████████| 102/102 [00:23<00:00,  4.26it/s]"
          ]
        },
        {
          "name": "stdout",
          "output_type": "stream",
          "text": [
            "0.8660110633066994\n"
          ]
        },
        {
          "name": "stderr",
          "output_type": "stream",
          "text": [
            "\n"
          ]
        }
      ],
      "source": [
        "_, test_acc = eval(best_model2, test_loader)\n",
        "print(test_acc)"
      ]
    },
    {
      "cell_type": "code",
      "execution_count": 31,
      "metadata": {
        "colab": {
          "base_uri": "https://localhost:8080/"
        },
        "id": "QGc7dYkEQn1c",
        "outputId": "261427c7-d159-4e56-d11e-f072d40b64e2"
      },
      "outputs": [
        {
          "name": "stdout",
          "output_type": "stream",
          "text": [
            "----------------------------------------------------------------\n",
            "        Layer (type)               Output Shape         Param #\n",
            "================================================================\n",
            "            Conv2d-1           [-1, 16, 32, 32]             448\n",
            "       BatchNorm2d-2           [-1, 16, 32, 32]              32\n",
            "              ReLU-3           [-1, 16, 32, 32]               0\n",
            "            Conv2d-4           [-1, 16, 32, 32]           2,320\n",
            "       BatchNorm2d-5           [-1, 16, 32, 32]              32\n",
            "              ReLU-6           [-1, 16, 32, 32]               0\n",
            "            Conv2d-7           [-1, 32, 32, 32]           4,640\n",
            "       BatchNorm2d-8           [-1, 32, 32, 32]              64\n",
            "              ReLU-9           [-1, 32, 32, 32]               0\n",
            "           Linear-10                   [-1, 50]       1,638,450\n",
            "           Linear-11                   [-1, 50]           2,550\n",
            "           Linear-12                   [-1, 10]             510\n",
            "================================================================\n",
            "Total params: 1,649,046\n",
            "Trainable params: 1,649,046\n",
            "Non-trainable params: 0\n",
            "----------------------------------------------------------------\n",
            "Input size (MB): 0.01\n",
            "Forward/backward pass size (MB): 1.50\n",
            "Params size (MB): 6.29\n",
            "Estimated Total Size (MB): 7.80\n",
            "----------------------------------------------------------------\n"
          ]
        }
      ],
      "source": [
        "summary(best_model2, (3, 32, 32))"
      ]
    },
    {
      "cell_type": "markdown",
      "metadata": {
        "id": "VR45L7Tk7VVK"
      },
      "source": [
        "The inclusion of max pooling layers led to noticeably better test accuracy compared to removing them from the CNN architecture. With max pooling, the model achieved a test accuracy of 0.889 versus 0.866 without pooling. Removing the max-pooling layer led to a significant rise in the parameter count, soaring from 36,246 to 1,649,046—a 45-fold increase. Consequently, the training duration for the model substantially extended compared to the previous configuration.\n",
        "\n",
        "Max pooling provides two key benefits - dimensionality reduction and translation invariance. By downsampling the feature maps, max pooling reduces computational complexity and acts as a form of regularization to prevent overfitting. Additionally, taking the maximum value in each window promotes invariance to the exact location of features. This allows the model to focus on the presence of key features rather than their precise spatial locations. However, some detailed spatial information is lost. Overall, the regularization and robustness provided by max pooling likely helped the model generalize better to the test data, overcoming the potential loss of fine-grained spatial details.\n",
        "\n",
        "In contrast, the lack of pooling retains more spatial information but loses the benefits of downsampling and invariance. This can lead to oversensitivity to minor input variations. The model may also be more prone to overfitting without the regularization induced by pooling layers. In summary, max pooling provides helpful inductive biases for many computer vision tasks, leading to noticeable improvements in accuracy and efficiency."
      ]
    }
  ],
  "metadata": {
    "colab": {
      "provenance": []
    },
    "kernelspec": {
      "display_name": "Python 3",
      "name": "python3"
    },
    "language_info": {
      "codemirror_mode": {
        "name": "ipython",
        "version": 3
      },
      "file_extension": ".py",
      "mimetype": "text/x-python",
      "name": "python",
      "nbconvert_exporter": "python",
      "pygments_lexer": "ipython3",
      "version": "3.11.4"
    }
  },
  "nbformat": 4,
  "nbformat_minor": 0
}
